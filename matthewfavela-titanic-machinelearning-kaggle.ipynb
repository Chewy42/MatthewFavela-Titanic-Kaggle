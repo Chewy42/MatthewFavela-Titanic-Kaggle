{
 "cells": [
  {
   "cell_type": "code",
   "execution_count": 1,
   "id": "f8b09b07",
   "metadata": {
    "_cell_guid": "b1076dfc-b9ad-4769-8c92-a6c4dae69d19",
    "_uuid": "8f2839f25d086af736a60e9eeb907d3b93b6e0e5",
    "execution": {
     "iopub.execute_input": "2023-01-17T00:08:02.992215Z",
     "iopub.status.busy": "2023-01-17T00:08:02.991331Z",
     "iopub.status.idle": "2023-01-17T00:08:03.003772Z",
     "shell.execute_reply": "2023-01-17T00:08:03.002664Z"
    },
    "papermill": {
     "duration": 0.019511,
     "end_time": "2023-01-17T00:08:03.006430",
     "exception": false,
     "start_time": "2023-01-17T00:08:02.986919",
     "status": "completed"
    },
    "tags": []
   },
   "outputs": [],
   "source": [
    "import pandas as pd\n",
    "import numpy as np\n",
    "import torch\n",
    "import "
   ]
  },
  {
   "cell_type": "code",
   "execution_count": null,
   "id": "5106a09d",
   "metadata": {
    "execution": {
     "iopub.execute_input": "2023-01-17T00:08:03.011773Z",
     "iopub.status.busy": "2023-01-17T00:08:03.011373Z",
     "iopub.status.idle": "2023-01-17T00:08:03.095106Z",
     "shell.execute_reply": "2023-01-17T00:08:03.093422Z"
    },
    "papermill": {
     "duration": 0.089807,
     "end_time": "2023-01-17T00:08:03.098117",
     "exception": false,
     "start_time": "2023-01-17T00:08:03.008310",
     "status": "completed"
    },
    "tags": []
   },
   "outputs": [],
   "source": []
  },
  {
   "cell_type": "code",
   "execution_count": null,
   "id": "07739af6",
   "metadata": {
    "papermill": {
     "duration": 0.002399,
     "end_time": "2023-01-17T00:08:03.102826",
     "exception": false,
     "start_time": "2023-01-17T00:08:03.100427",
     "status": "completed"
    },
    "tags": []
   },
   "outputs": [],
   "source": []
  }
 ],
 "metadata": {
  "kernelspec": {
   "display_name": "Python 3",
   "language": "python",
   "name": "python3"
  },
  "language_info": {
   "codemirror_mode": {
    "name": "ipython",
    "version": 3
   },
   "file_extension": ".py",
   "mimetype": "text/x-python",
   "name": "python",
   "nbconvert_exporter": "python",
   "pygments_lexer": "ipython3",
   "version": "3.10.4"
  },
  "papermill": {
   "default_parameters": {},
   "duration": 11.878451,
   "end_time": "2023-01-17T00:08:03.931354",
   "environment_variables": {},
   "exception": null,
   "input_path": "__notebook__.ipynb",
   "output_path": "__notebook__.ipynb",
   "parameters": {},
   "start_time": "2023-01-17T00:07:52.052903",
   "version": "2.3.4"
  },
  "vscode": {
   "interpreter": {
    "hash": "3ad933181bd8a04b432d3370b9dc3b0662ad032c4dfaa4e4f1596c548f763858"
   }
  }
 },
 "nbformat": 4,
 "nbformat_minor": 5
}
