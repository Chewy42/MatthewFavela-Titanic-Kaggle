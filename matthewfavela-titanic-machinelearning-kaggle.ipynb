{
 "cells": [
  {
   "cell_type": "code",
   "execution_count": 127,
   "outputs": [],
   "source": [
    "# // * Copyright (C) 2023 Matthew Favela - All Rights Reserved\n",
    "# // * You may use, distribute and modify this code under the\n",
    "# // * terms of the MIT license, which unfortunately won't be\n",
    "# // * written for another century.\n",
    "#     // *\n",
    "# // * You should have received a copy of the MIT license with\n",
    "#     // * this file. If not, please write to: Chewy42\n",
    "# // * @author Matthew Favela\n",
    "# // * @version 1.0\n",
    "# // * @since 2023-02-17\n",
    "# // */"
   ],
   "metadata": {
    "collapsed": false
   }
  },
  {
   "cell_type": "code",
   "execution_count": 1,
   "id": "f8b09b07",
   "metadata": {
    "_cell_guid": "b1076dfc-b9ad-4769-8c92-a6c4dae69d19",
    "_uuid": "8f2839f25d086af736a60e9eeb907d3b93b6e0e5",
    "execution": {
     "iopub.execute_input": "2023-01-17T00:08:02.992215Z",
     "iopub.status.busy": "2023-01-17T00:08:02.991331Z",
     "iopub.status.idle": "2023-01-17T00:08:03.003772Z",
     "shell.execute_reply": "2023-01-17T00:08:03.002664Z"
    },
    "papermill": {
     "duration": 0.019511,
     "end_time": "2023-01-17T00:08:03.006430",
     "exception": false,
     "start_time": "2023-01-17T00:08:02.986919",
     "status": "completed"
    },
    "tags": []
   },
   "outputs": [],
   "source": [
    "#import modules\n",
    "import pandas as pd\n",
    "import numpy as np\n",
    "import torch\n",
    "import torch.nn as nn\n",
    "from sklearn.preprocessing import LabelEncoder, StandardScaler\n",
    "from sklearn.model_selection import train_test_split"
   ]
  },
  {
   "cell_type": "code",
   "execution_count": 2,
   "id": "b01e8385",
   "metadata": {},
   "outputs": [],
   "source": [
    "#combine datasets into 1 dataframe\n",
    "train_df = pd.read_csv('train.csv')\n",
    "test_df = pd.read_csv('test.csv')\n",
    "df = pd.concat([train_df, test_df], sort=False)\n",
    "df.to_csv('combinedDataset.csv')"
   ]
  },
  {
   "cell_type": "code",
   "execution_count": 4,
   "id": "5106a09d",
   "metadata": {
    "execution": {
     "iopub.execute_input": "2023-01-17T00:08:03.011773Z",
     "iopub.status.busy": "2023-01-17T00:08:03.011373Z",
     "iopub.status.idle": "2023-01-17T00:08:03.095106Z",
     "shell.execute_reply": "2023-01-17T00:08:03.093422Z"
    },
    "papermill": {
     "duration": 0.089807,
     "end_time": "2023-01-17T00:08:03.098117",
     "exception": false,
     "start_time": "2023-01-17T00:08:03.008310",
     "status": "completed"
    },
    "tags": []
   },
   "outputs": [
    {
     "data": {
      "text/plain": "     Survived  Pclass     Sex   Age  SibSp     Fare Embarked\n0         0.0       3    male  22.0      1   7.2500        S\n1         1.0       1  female  38.0      1  71.2833        C\n2         1.0       3  female  26.0      0   7.9250        S\n3         1.0       1  female  35.0      1  53.1000        S\n4         0.0       3    male  35.0      0   8.0500        S\n..        ...     ...     ...   ...    ...      ...      ...\n885       0.0       3  female  39.0      0  29.1250        Q\n886       0.0       2    male  27.0      0  13.0000        S\n887       1.0       1  female  19.0      0  30.0000        S\n889       1.0       1    male  26.0      0  30.0000        C\n890       0.0       3    male  32.0      0   7.7500        Q\n\n[712 rows x 7 columns]",
      "text/html": "<div>\n<style scoped>\n    .dataframe tbody tr th:only-of-type {\n        vertical-align: middle;\n    }\n\n    .dataframe tbody tr th {\n        vertical-align: top;\n    }\n\n    .dataframe thead th {\n        text-align: right;\n    }\n</style>\n<table border=\"1\" class=\"dataframe\">\n  <thead>\n    <tr style=\"text-align: right;\">\n      <th></th>\n      <th>Survived</th>\n      <th>Pclass</th>\n      <th>Sex</th>\n      <th>Age</th>\n      <th>SibSp</th>\n      <th>Fare</th>\n      <th>Embarked</th>\n    </tr>\n  </thead>\n  <tbody>\n    <tr>\n      <th>0</th>\n      <td>0.0</td>\n      <td>3</td>\n      <td>male</td>\n      <td>22.0</td>\n      <td>1</td>\n      <td>7.2500</td>\n      <td>S</td>\n    </tr>\n    <tr>\n      <th>1</th>\n      <td>1.0</td>\n      <td>1</td>\n      <td>female</td>\n      <td>38.0</td>\n      <td>1</td>\n      <td>71.2833</td>\n      <td>C</td>\n    </tr>\n    <tr>\n      <th>2</th>\n      <td>1.0</td>\n      <td>3</td>\n      <td>female</td>\n      <td>26.0</td>\n      <td>0</td>\n      <td>7.9250</td>\n      <td>S</td>\n    </tr>\n    <tr>\n      <th>3</th>\n      <td>1.0</td>\n      <td>1</td>\n      <td>female</td>\n      <td>35.0</td>\n      <td>1</td>\n      <td>53.1000</td>\n      <td>S</td>\n    </tr>\n    <tr>\n      <th>4</th>\n      <td>0.0</td>\n      <td>3</td>\n      <td>male</td>\n      <td>35.0</td>\n      <td>0</td>\n      <td>8.0500</td>\n      <td>S</td>\n    </tr>\n    <tr>\n      <th>...</th>\n      <td>...</td>\n      <td>...</td>\n      <td>...</td>\n      <td>...</td>\n      <td>...</td>\n      <td>...</td>\n      <td>...</td>\n    </tr>\n    <tr>\n      <th>885</th>\n      <td>0.0</td>\n      <td>3</td>\n      <td>female</td>\n      <td>39.0</td>\n      <td>0</td>\n      <td>29.1250</td>\n      <td>Q</td>\n    </tr>\n    <tr>\n      <th>886</th>\n      <td>0.0</td>\n      <td>2</td>\n      <td>male</td>\n      <td>27.0</td>\n      <td>0</td>\n      <td>13.0000</td>\n      <td>S</td>\n    </tr>\n    <tr>\n      <th>887</th>\n      <td>1.0</td>\n      <td>1</td>\n      <td>female</td>\n      <td>19.0</td>\n      <td>0</td>\n      <td>30.0000</td>\n      <td>S</td>\n    </tr>\n    <tr>\n      <th>889</th>\n      <td>1.0</td>\n      <td>1</td>\n      <td>male</td>\n      <td>26.0</td>\n      <td>0</td>\n      <td>30.0000</td>\n      <td>C</td>\n    </tr>\n    <tr>\n      <th>890</th>\n      <td>0.0</td>\n      <td>3</td>\n      <td>male</td>\n      <td>32.0</td>\n      <td>0</td>\n      <td>7.7500</td>\n      <td>Q</td>\n    </tr>\n  </tbody>\n</table>\n<p>712 rows × 7 columns</p>\n</div>"
     },
     "execution_count": 3,
     "metadata": {},
     "output_type": "execute_result"
    },
    {
     "data": {
      "text/plain": "    Survived  Pclass     Sex   Age  SibSp     Fare Embarked\n0        0.0       3    male  22.0      1   7.2500        S\n1        1.0       1  female  38.0      1  71.2833        C\n2        1.0       3  female  26.0      0   7.9250        S\n3        1.0       1  female  35.0      1  53.1000        S\n4        0.0       3    male  35.0      0   8.0500        S\n6        0.0       1    male  54.0      0  51.8625        S\n7        0.0       3    male   2.0      3  21.0750        S\n8        1.0       3  female  27.0      0  11.1333        S\n9        1.0       2  female  14.0      1  30.0708        C\n10       1.0       3  female   4.0      1  16.7000        S",
      "text/html": "<div>\n<style scoped>\n    .dataframe tbody tr th:only-of-type {\n        vertical-align: middle;\n    }\n\n    .dataframe tbody tr th {\n        vertical-align: top;\n    }\n\n    .dataframe thead th {\n        text-align: right;\n    }\n</style>\n<table border=\"1\" class=\"dataframe\">\n  <thead>\n    <tr style=\"text-align: right;\">\n      <th></th>\n      <th>Survived</th>\n      <th>Pclass</th>\n      <th>Sex</th>\n      <th>Age</th>\n      <th>SibSp</th>\n      <th>Fare</th>\n      <th>Embarked</th>\n    </tr>\n  </thead>\n  <tbody>\n    <tr>\n      <th>0</th>\n      <td>0.0</td>\n      <td>3</td>\n      <td>male</td>\n      <td>22.0</td>\n      <td>1</td>\n      <td>7.2500</td>\n      <td>S</td>\n    </tr>\n    <tr>\n      <th>1</th>\n      <td>1.0</td>\n      <td>1</td>\n      <td>female</td>\n      <td>38.0</td>\n      <td>1</td>\n      <td>71.2833</td>\n      <td>C</td>\n    </tr>\n    <tr>\n      <th>2</th>\n      <td>1.0</td>\n      <td>3</td>\n      <td>female</td>\n      <td>26.0</td>\n      <td>0</td>\n      <td>7.9250</td>\n      <td>S</td>\n    </tr>\n    <tr>\n      <th>3</th>\n      <td>1.0</td>\n      <td>1</td>\n      <td>female</td>\n      <td>35.0</td>\n      <td>1</td>\n      <td>53.1000</td>\n      <td>S</td>\n    </tr>\n    <tr>\n      <th>4</th>\n      <td>0.0</td>\n      <td>3</td>\n      <td>male</td>\n      <td>35.0</td>\n      <td>0</td>\n      <td>8.0500</td>\n      <td>S</td>\n    </tr>\n    <tr>\n      <th>6</th>\n      <td>0.0</td>\n      <td>1</td>\n      <td>male</td>\n      <td>54.0</td>\n      <td>0</td>\n      <td>51.8625</td>\n      <td>S</td>\n    </tr>\n    <tr>\n      <th>7</th>\n      <td>0.0</td>\n      <td>3</td>\n      <td>male</td>\n      <td>2.0</td>\n      <td>3</td>\n      <td>21.0750</td>\n      <td>S</td>\n    </tr>\n    <tr>\n      <th>8</th>\n      <td>1.0</td>\n      <td>3</td>\n      <td>female</td>\n      <td>27.0</td>\n      <td>0</td>\n      <td>11.1333</td>\n      <td>S</td>\n    </tr>\n    <tr>\n      <th>9</th>\n      <td>1.0</td>\n      <td>2</td>\n      <td>female</td>\n      <td>14.0</td>\n      <td>1</td>\n      <td>30.0708</td>\n      <td>C</td>\n    </tr>\n    <tr>\n      <th>10</th>\n      <td>1.0</td>\n      <td>3</td>\n      <td>female</td>\n      <td>4.0</td>\n      <td>1</td>\n      <td>16.7000</td>\n      <td>S</td>\n    </tr>\n  </tbody>\n</table>\n</div>"
     },
     "execution_count": 4,
     "metadata": {},
     "output_type": "execute_result"
    }
   ],
   "source": [
    "#condense to only neccessary columns & get rid of empty rows\n",
    "df = df[['Survived', 'Pclass', 'Sex', 'Age', 'SibSp', 'Fare', 'Embarked']]\n",
    "df = df.dropna()"
   ]
  },
  {
   "cell_type": "code",
   "execution_count": 146,
   "id": "ba6433f6",
   "metadata": {},
   "outputs": [],
   "source": [
    "le = LabelEncoder() # instantiate the label encoder to encode categorical values\n",
    "\n",
    "df[['Sex', 'Embarked']] = df[['Sex', 'Embarked']].apply(le.fit_transform) # encode the categorical values\n",
    "X = df[['Pclass', 'Sex', 'Age', 'SibSp', 'Fare', 'Embarked']].values.astype(np.float32) # get the features as X and convert to numpy float 32\n",
    "y = df['Survived'].values.astype(np.float32).reshape(-1, 1) # get the labels as y and convert to numpy float 32. Also reshape to 2D array"
   ]
  },
  {
   "cell_type": "code",
   "execution_count": 132,
   "id": "07739af6",
   "metadata": {
    "papermill": {
     "duration": 0.002399,
     "end_time": "2023-01-17T00:08:03.102826",
     "exception": false,
     "start_time": "2023-01-17T00:08:03.100427",
     "status": "completed"
    },
    "tags": []
   },
   "outputs": [],
   "source": [
    "scaler = StandardScaler() # instantiate the scaler\n",
    "X = scaler.fit_transform(X) # scale the features\n",
    "y = scaler.fit_transform(y) # scale the labels"
   ]
  },
  {
   "cell_type": "code",
   "execution_count": 133,
   "id": "9a9149a9",
   "metadata": {},
   "outputs": [],
   "source": [
    "X_train, X_test, y_train, y_test = train_test_split(X, y, test_size=0.2, random_state=42) # split the data into training and testing sets"
   ]
  },
  {
   "cell_type": "code",
   "execution_count": 134,
   "id": "4420e389",
   "metadata": {},
   "outputs": [],
   "source": [
    "# convert the numpy arrays to torch tensors that can be interpreted by the neural network\n",
    "X_train = torch.from_numpy(X_train)\n",
    "X_test = torch.from_numpy(X_test)\n",
    "y_train = torch.from_numpy(y_train)\n",
    "y_test = torch.from_numpy(y_test)"
   ]
  },
  {
   "cell_type": "code",
   "execution_count": 135,
   "id": "9a884f9e",
   "metadata": {},
   "outputs": [],
   "source": [
    "class RegressionModel(nn.Module): # create the regression model\n",
    "    def __init__(self):\n",
    "        super().__init__() # inherit from the nn.Module class\n",
    "        self.linear = nn.Linear(6, 1) # create a linear layer with 6 inputs and 1 output. The 6 inputs will be the features (factors into outcome) and the 1 output (prediction) will be the label\n",
    "        \n",
    "    def forward(self, x):\n",
    "        pred = torch.sigmoid(self.linear(x)) # apply the sigmoid function to the linear layer to get the prediction. the sigmoid function will return a value between 0 and 1\n",
    "        return pred"
   ]
  },
  {
   "cell_type": "code",
   "execution_count": 136,
   "id": "ecccfa14",
   "metadata": {},
   "outputs": [],
   "source": [
    "model = RegressionModel() # instantiate the model\n",
    "criterion = nn.MSELoss() # instantiate the loss function\n",
    "optimizer = torch.optim.Adam(model.parameters(), lr=0.01) # instantiate the optimizer"
   ]
  },
  {
   "cell_type": "code",
   "execution_count": 137,
   "id": "45bbb73c",
   "metadata": {},
   "outputs": [],
   "source": [
    "epochs = 1000 # number of times the model will train"
   ]
  },
  {
   "cell_type": "code",
   "execution_count": 147,
   "id": "210908e1",
   "metadata": {},
   "outputs": [
    {
     "name": "stdout",
     "output_type": "stream",
     "text": [
      "loss:  73.0 %\n"
     ]
    }
   ],
   "source": [
    "for i in range(epochs): # train the model\n",
    "    model.train() # set the model to training mode\n",
    "    y_pred = model.forward(X_train) # get the prediction\n",
    "    loss = criterion(y_pred, y_train) # calculate the loss\n",
    "\n",
    "    #print('epoch: ', i, 'loss: ', loss.item())\n",
    "\n",
    "    loss.backward() # backpropagate the loss\n",
    "    optimizer.step() # update the weights\n",
    "    optimizer.zero_grad() # reset the gradients\n",
    "\n",
    "model.eval() # set the model to evaluation mode\n",
    "with torch.no_grad(): # test the model\n",
    "    y_eval = model.forward(X_test) # get the prediction\n",
    "    loss = criterion(y_eval, y_test) # calculate the loss\n",
    "    print('loss: ', np.round((loss.item() * 100)), '%') # print the loss"
   ]
  },
  {
   "cell_type": "code",
   "execution_count": 139,
   "id": "60af5249",
   "metadata": {},
   "outputs": [
    {
     "data": {
      "text/plain": "   PassengerId  Pclass  Sex   Age  SibSp     Fare  Embarked  Survived\n0          892       3    1  34.5      0   7.8292         1         0\n1          893       3    0  47.0      1   7.0000         2         0\n2          894       2    1  62.0      0   9.6875         1         0\n3          895       3    1  27.0      0   8.6625         2         0\n4          896       3    0  22.0      1  12.2875         2         0",
      "text/html": "<div>\n<style scoped>\n    .dataframe tbody tr th:only-of-type {\n        vertical-align: middle;\n    }\n\n    .dataframe tbody tr th {\n        vertical-align: top;\n    }\n\n    .dataframe thead th {\n        text-align: right;\n    }\n</style>\n<table border=\"1\" class=\"dataframe\">\n  <thead>\n    <tr style=\"text-align: right;\">\n      <th></th>\n      <th>PassengerId</th>\n      <th>Pclass</th>\n      <th>Sex</th>\n      <th>Age</th>\n      <th>SibSp</th>\n      <th>Fare</th>\n      <th>Embarked</th>\n      <th>Survived</th>\n    </tr>\n  </thead>\n  <tbody>\n    <tr>\n      <th>0</th>\n      <td>892</td>\n      <td>3</td>\n      <td>1</td>\n      <td>34.5</td>\n      <td>0</td>\n      <td>7.8292</td>\n      <td>1</td>\n      <td>0</td>\n    </tr>\n    <tr>\n      <th>1</th>\n      <td>893</td>\n      <td>3</td>\n      <td>0</td>\n      <td>47.0</td>\n      <td>1</td>\n      <td>7.0000</td>\n      <td>2</td>\n      <td>0</td>\n    </tr>\n    <tr>\n      <th>2</th>\n      <td>894</td>\n      <td>2</td>\n      <td>1</td>\n      <td>62.0</td>\n      <td>0</td>\n      <td>9.6875</td>\n      <td>1</td>\n      <td>0</td>\n    </tr>\n    <tr>\n      <th>3</th>\n      <td>895</td>\n      <td>3</td>\n      <td>1</td>\n      <td>27.0</td>\n      <td>0</td>\n      <td>8.6625</td>\n      <td>2</td>\n      <td>0</td>\n    </tr>\n    <tr>\n      <th>4</th>\n      <td>896</td>\n      <td>3</td>\n      <td>0</td>\n      <td>22.0</td>\n      <td>1</td>\n      <td>12.2875</td>\n      <td>2</td>\n      <td>0</td>\n    </tr>\n  </tbody>\n</table>\n</div>"
     },
     "execution_count": 139,
     "metadata": {},
     "output_type": "execute_result"
    }
   ],
   "source": [
    "#test the model\n",
    "test_df = pd.read_csv('test.csv') # read the test data\n",
    "test_df = test_df[['PassengerId', 'Pclass', 'Sex', 'Age', 'SibSp', 'Fare', 'Embarked']] # get the neccessary columns needed to test\n",
    "\n",
    "#reapply data cleaning procedures\n",
    "test_df[['Sex', 'Embarked']] = test_df[['Sex', 'Embarked']].apply(le.fit_transform)\n",
    "test_df['Survived'] = 0\n",
    "\n",
    "X = test_df[['Pclass', 'Sex', 'Age', 'SibSp', 'Fare', 'Embarked']].values.astype(np.float32)\n",
    "X = scaler.fit_transform(X)\n",
    "X = torch.from_numpy(X)\n",
    "\n",
    "y = test_df[['Survived']].values.astype(np.float32)\n",
    "y = scaler.fit_transform(y)\n",
    "y = torch.from_numpy(y)\n",
    "test_df.head()"
   ]
  },
  {
   "cell_type": "code",
   "execution_count": 140,
   "outputs": [
    {
     "name": "stdout",
     "output_type": "stream",
     "text": [
      "loss:  nan %\n"
     ]
    }
   ],
   "source": [
    "model.eval()\n",
    "with torch.no_grad():\n",
    "    y_eval = model.forward(X)\n",
    "    loss = criterion(y_eval, y)\n",
    "    print('loss: ', np.round((loss.item() * 100)), '%')"
   ],
   "metadata": {
    "collapsed": false
   }
  },
  {
   "cell_type": "code",
   "execution_count": 141,
   "outputs": [],
   "source": [
    "test_df['Survived'] = y_eval"
   ],
   "metadata": {
    "collapsed": false
   }
  },
  {
   "cell_type": "code",
   "execution_count": 142,
   "outputs": [
    {
     "data": {
      "text/plain": "   PassengerId  Pclass  Sex   Age  SibSp     Fare  Embarked  Survived\n0          892       3    1  34.5      0   7.8292         1  0.000737\n1          893       3    0  47.0      1   7.0000         2  0.049068\n2          894       2    1  62.0      0   9.6875         1  0.002545\n3          895       3    1  27.0      0   8.6625         2  0.001105\n4          896       3    0  22.0      1  12.2875         2  0.230029",
      "text/html": "<div>\n<style scoped>\n    .dataframe tbody tr th:only-of-type {\n        vertical-align: middle;\n    }\n\n    .dataframe tbody tr th {\n        vertical-align: top;\n    }\n\n    .dataframe thead th {\n        text-align: right;\n    }\n</style>\n<table border=\"1\" class=\"dataframe\">\n  <thead>\n    <tr style=\"text-align: right;\">\n      <th></th>\n      <th>PassengerId</th>\n      <th>Pclass</th>\n      <th>Sex</th>\n      <th>Age</th>\n      <th>SibSp</th>\n      <th>Fare</th>\n      <th>Embarked</th>\n      <th>Survived</th>\n    </tr>\n  </thead>\n  <tbody>\n    <tr>\n      <th>0</th>\n      <td>892</td>\n      <td>3</td>\n      <td>1</td>\n      <td>34.5</td>\n      <td>0</td>\n      <td>7.8292</td>\n      <td>1</td>\n      <td>0.000737</td>\n    </tr>\n    <tr>\n      <th>1</th>\n      <td>893</td>\n      <td>3</td>\n      <td>0</td>\n      <td>47.0</td>\n      <td>1</td>\n      <td>7.0000</td>\n      <td>2</td>\n      <td>0.049068</td>\n    </tr>\n    <tr>\n      <th>2</th>\n      <td>894</td>\n      <td>2</td>\n      <td>1</td>\n      <td>62.0</td>\n      <td>0</td>\n      <td>9.6875</td>\n      <td>1</td>\n      <td>0.002545</td>\n    </tr>\n    <tr>\n      <th>3</th>\n      <td>895</td>\n      <td>3</td>\n      <td>1</td>\n      <td>27.0</td>\n      <td>0</td>\n      <td>8.6625</td>\n      <td>2</td>\n      <td>0.001105</td>\n    </tr>\n    <tr>\n      <th>4</th>\n      <td>896</td>\n      <td>3</td>\n      <td>0</td>\n      <td>22.0</td>\n      <td>1</td>\n      <td>12.2875</td>\n      <td>2</td>\n      <td>0.230029</td>\n    </tr>\n  </tbody>\n</table>\n</div>"
     },
     "execution_count": 142,
     "metadata": {},
     "output_type": "execute_result"
    }
   ],
   "source": [
    "test_df.head()"
   ],
   "metadata": {
    "collapsed": false
   }
  },
  {
   "cell_type": "code",
   "execution_count": 143,
   "outputs": [],
   "source": [
    "test_df['Survived'] = test_df['Survived'].apply(lambda x: 1 if x > 0.5 else 0)"
   ],
   "metadata": {
    "collapsed": false
   }
  },
  {
   "cell_type": "code",
   "execution_count": 144,
   "outputs": [
    {
     "data": {
      "text/plain": "   PassengerId  Pclass  Sex   Age  SibSp     Fare  Embarked  Survived\n0          892       3    1  34.5      0   7.8292         1         0\n1          893       3    0  47.0      1   7.0000         2         0\n2          894       2    1  62.0      0   9.6875         1         0\n3          895       3    1  27.0      0   8.6625         2         0\n4          896       3    0  22.0      1  12.2875         2         0",
      "text/html": "<div>\n<style scoped>\n    .dataframe tbody tr th:only-of-type {\n        vertical-align: middle;\n    }\n\n    .dataframe tbody tr th {\n        vertical-align: top;\n    }\n\n    .dataframe thead th {\n        text-align: right;\n    }\n</style>\n<table border=\"1\" class=\"dataframe\">\n  <thead>\n    <tr style=\"text-align: right;\">\n      <th></th>\n      <th>PassengerId</th>\n      <th>Pclass</th>\n      <th>Sex</th>\n      <th>Age</th>\n      <th>SibSp</th>\n      <th>Fare</th>\n      <th>Embarked</th>\n      <th>Survived</th>\n    </tr>\n  </thead>\n  <tbody>\n    <tr>\n      <th>0</th>\n      <td>892</td>\n      <td>3</td>\n      <td>1</td>\n      <td>34.5</td>\n      <td>0</td>\n      <td>7.8292</td>\n      <td>1</td>\n      <td>0</td>\n    </tr>\n    <tr>\n      <th>1</th>\n      <td>893</td>\n      <td>3</td>\n      <td>0</td>\n      <td>47.0</td>\n      <td>1</td>\n      <td>7.0000</td>\n      <td>2</td>\n      <td>0</td>\n    </tr>\n    <tr>\n      <th>2</th>\n      <td>894</td>\n      <td>2</td>\n      <td>1</td>\n      <td>62.0</td>\n      <td>0</td>\n      <td>9.6875</td>\n      <td>1</td>\n      <td>0</td>\n    </tr>\n    <tr>\n      <th>3</th>\n      <td>895</td>\n      <td>3</td>\n      <td>1</td>\n      <td>27.0</td>\n      <td>0</td>\n      <td>8.6625</td>\n      <td>2</td>\n      <td>0</td>\n    </tr>\n    <tr>\n      <th>4</th>\n      <td>896</td>\n      <td>3</td>\n      <td>0</td>\n      <td>22.0</td>\n      <td>1</td>\n      <td>12.2875</td>\n      <td>2</td>\n      <td>0</td>\n    </tr>\n  </tbody>\n</table>\n</div>"
     },
     "execution_count": 144,
     "metadata": {},
     "output_type": "execute_result"
    }
   ],
   "source": [
    "test_df.head()"
   ],
   "metadata": {
    "collapsed": false
   }
  },
  {
   "cell_type": "code",
   "execution_count": 145,
   "outputs": [],
   "source": [
    "#export to csv\n",
    "test_df = test_df[['PassengerId', 'Survived']]\n",
    "test_df = test_df.dropna()\n",
    "test_df.to_csv('submission.csv', index=False)"
   ],
   "metadata": {
    "collapsed": false
   }
  },
  {
   "cell_type": "code",
   "execution_count": 145,
   "outputs": [],
   "source": [],
   "metadata": {
    "collapsed": false
   }
  }
 ],
 "metadata": {
  "kernelspec": {
   "display_name": "Python 3",
   "language": "python",
   "name": "python3"
  },
  "language_info": {
   "codemirror_mode": {
    "name": "ipython",
    "version": 3
   },
   "file_extension": ".py",
   "mimetype": "text/x-python",
   "name": "python",
   "nbconvert_exporter": "python",
   "pygments_lexer": "ipython3",
   "version": "3.10.4"
  },
  "papermill": {
   "default_parameters": {},
   "duration": 11.878451,
   "end_time": "2023-01-17T00:08:03.931354",
   "environment_variables": {},
   "exception": null,
   "input_path": "__notebook__.ipynb",
   "output_path": "__notebook__.ipynb",
   "parameters": {},
   "start_time": "2023-01-17T00:07:52.052903",
   "version": "2.3.4"
  },
  "vscode": {
   "interpreter": {
    "hash": "3ad933181bd8a04b432d3370b9dc3b0662ad032c4dfaa4e4f1596c548f763858"
   }
  }
 },
 "nbformat": 4,
 "nbformat_minor": 5
}
